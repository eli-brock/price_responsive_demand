{
 "cells": [
  {
   "cell_type": "code",
   "execution_count": 1,
   "metadata": {},
   "outputs": [],
   "source": [
    "import numpy as np\n",
    "import cvxpy as cp\n",
    "from scipy.io import loadmat\n",
    "import pandas as pd\n",
    "from network import Network\n",
    "import matplotlib.pyplot as plt"
   ]
  },
  {
   "cell_type": "markdown",
   "metadata": {},
   "source": [
    "First, read in problem parameters. These can come from any source, but they should be reshaped into `np.array` objects with dimensions specified in the docstring of `sim`."
   ]
  },
  {
   "cell_type": "code",
   "execution_count": 2,
   "metadata": {},
   "outputs": [],
   "source": [
    "# System base in MVA, taken from PowerWorld. Used to convert from MW to per-unit.\n",
    "base = 100\n",
    "\n",
    "transition = .9\n",
    "\n",
    "# Key/value pairs are the names and contents of the sheets in the excel model data\n",
    "model_df = pd.read_excel('Example11_9_Network_Model_Jul19.xlsx', sheet_name=None)\n",
    "\n",
    "# The initial conditions of the demand curves\n",
    "load = model_df['LoadProfiles'].set_index('Date')\n",
    "load.index+=pd.TimedeltaIndex(load.HE-1, unit='h')\n",
    "load = load.drop(columns='HE')\n",
    "demand = load.loc[:,load.columns.str.contains('Load')]/base\n",
    "demand.columns = demand.columns.str.replace('Load','').astype(int)\n",
    "price = load.loc[:,load.columns.str.contains('Price')]\n",
    "price.columns = price.columns.str.replace('Price','').astype(int)\n",
    "\n",
    "# Generation profiles for intermittant sources\n",
    "int_gen = pd.read_excel('Normalized generation profiles.xlsx', sheet_name='Normalized', index_col=0)\n",
    "int_gen.index+=pd.TimedeltaIndex(int_gen.HE-1, unit='h')\n",
    "int_gen = int_gen.drop(columns='HE')\n",
    "int_gen = int_gen.loc[load.index, model_df['Gen']['Type']]\n",
    "int_gen = int_gen*np.array(model_df['Gen']['Installed MW'])/base\n",
    "int_gen.columns = np.array(model_df['Gen']['Number of Bus'])\n",
    "\n",
    "# Set elasticity constant, for now\n",
    "epsilon = demand.copy()\n",
    "epsilon[:] = -.5\n",
    "\n",
    "voll = price.copy()\n",
    "voll[:] = price*2\n",
    "\n",
    "profile = pd.concat(\n",
    "    {\n",
    "        'nom_load': demand,\n",
    "        'nom_price': price,\n",
    "        'elasticity': epsilon,\n",
    "        'voll': voll,\n",
    "        'int_gen': transition*int_gen\n",
    "    },\n",
    "    axis='columns'\n",
    ")"
   ]
  },
  {
   "cell_type": "code",
   "execution_count": 3,
   "metadata": {},
   "outputs": [],
   "source": [
    "# Process Ybus matrix\n",
    "Y = model_df['YBus']\n",
    "Y = Y.drop(columns=['Number', 'Name'])\n",
    "Y = Y.apply(lambda row: row.str.replace('j', ''))\n",
    "Y = Y.apply(lambda row: row.str.replace(' ', ''))\n",
    "Y = Y + 'j'\n",
    "Y = Y.fillna(0)\n",
    "Y = Y.applymap(complex)\n",
    "Y = np.array(Y)\n",
    "\n",
    "# Number of buses\n",
    "N = Y.shape[0]\n",
    "\n",
    "# Susceptance matrix. Recall in DC power flow, G = 0 and shunt admittances are zero.\n",
    "B = np.array(np.imag(Y))\n",
    "B = B - np.diag(np.diag(B))\n",
    "B = B - np.diag(np.sum(B, axis=0))\n",
    "\n",
    "# Line constraints. The i, j element is the MVA limit of the line from bus i to bus j\n",
    "P_line = np.zeros((N,N))\n",
    "limits = model_df['Line']\n",
    "P_line[limits['From Number']-1, limits['To Number']-1] = limits['Lim A MVA']\n",
    "P_line = (P_line+P_line.T)/base\n",
    "\n",
    "# Number of timesteps to fully charge/discharge storage\n",
    "b_duration = 4\n",
    "\n",
    "# Dispatchable generator costs\n",
    "cost_coeffs = np.array(\n",
    "    [\n",
    "        [10,8,12],\n",
    "        [.016,0.18,0.18]\n",
    "    ]\n",
    ")"
   ]
  },
  {
   "cell_type": "markdown",
   "metadata": {},
   "source": [
    "Instantiate model"
   ]
  },
  {
   "cell_type": "code",
   "execution_count": 4,
   "metadata": {},
   "outputs": [],
   "source": [
    "model = Network(\n",
    "    B=B,\n",
    "    line_lims=P_line,\n",
    "    profile=profile,\n",
    "    dis_max=(1-transition)*np.array(model_df['Gen']['Installed MW'])/base,\n",
    "    total_storage=2000/base,\n",
    "    storage_cycle_timesteps=4,\n",
    "    cost_coeffs=cost_coeffs\n",
    ")"
   ]
  },
  {
   "cell_type": "markdown",
   "metadata": {},
   "source": [
    "Solve model"
   ]
  },
  {
   "cell_type": "code",
   "execution_count": 5,
   "metadata": {},
   "outputs": [
    {
     "name": "stdout",
     "output_type": "stream",
     "text": [
      "===============================================================================\n",
      "                                     CVXPY                                     \n",
      "                                     v1.3.2                                    \n",
      "===============================================================================\n",
      "(CVXPY) Dec 20 04:29:56 PM: Your problem has 418 variables, 34 constraints, and 0 parameters.\n",
      "(CVXPY) Dec 20 04:29:56 PM: It is compliant with the following grammars: DCP, DQCP\n",
      "(CVXPY) Dec 20 04:29:56 PM: (If you need to solve this problem multiple times, but with different data, consider using parameters.)\n",
      "(CVXPY) Dec 20 04:29:56 PM: CVXPY will first compile your problem; then, it will invoke a numerical solver to obtain a solution.\n",
      "-------------------------------------------------------------------------------\n",
      "                                  Compilation                                  \n",
      "-------------------------------------------------------------------------------\n",
      "(CVXPY) Dec 20 04:29:56 PM: Compiling problem (target solver=ECOS).\n",
      "(CVXPY) Dec 20 04:29:56 PM: Reduction chain: Dcp2Cone -> CvxAttr2Constr -> ConeMatrixStuffing -> ECOS\n",
      "(CVXPY) Dec 20 04:29:56 PM: Applying reduction Dcp2Cone\n",
      "(CVXPY) Dec 20 04:29:56 PM: Applying reduction CvxAttr2Constr\n",
      "(CVXPY) Dec 20 04:29:56 PM: Applying reduction ConeMatrixStuffing\n",
      "(CVXPY) Dec 20 04:29:56 PM: Applying reduction ECOS\n",
      "(CVXPY) Dec 20 04:29:56 PM: Finished problem compilation (took 3.941e-01 seconds).\n",
      "-------------------------------------------------------------------------------\n",
      "                                Numerical solver                               \n",
      "-------------------------------------------------------------------------------\n",
      "(CVXPY) Dec 20 04:29:56 PM: Invoking solver ECOS  to obtain a solution.\n",
      "\n",
      "ECOS 2.0.10 - (C) embotech GmbH, Zurich Switzerland, 2012-15. Web: www.embotech.com/ECOS\n",
      "\n",
      "It     pcost       dcost      gap   pres   dres    k/t    mu     step   sigma     IR    |   BT\n",
      " 0  -2.160e+01  -1.144e+03  +4e+05  3e-01  1e-03  1e+00  2e+02    ---    ---    1  1  - |  -  - \n",
      " 1  +1.533e+02  -5.453e+02  +2e+05  2e-01  9e-04  2e+00  1e+02  0.3815  1e-02   1  2  2 |  0  0\n",
      " 2  -2.027e+03  -2.607e+03  +2e+05  2e-01  8e-04  8e+00  1e+02  0.2261  2e-01   2  2  2 |  0  0\n",
      " 3  -3.050e+03  -3.607e+03  +2e+05  1e-01  7e-04  1e+01  1e+02  0.0763  3e-01   2  3  3 |  0  0\n",
      " 4  +4.360e+02  +9.145e+01  +1e+05  9e-02  5e-04  7e+00  7e+01  0.3837  2e-02   2  2  2 |  0  0\n",
      " 5  +4.198e+03  +3.982e+03  +7e+04  6e-02  3e-04  5e+00  4e+01  0.3803  2e-02   2  2  2 |  0  0\n",
      " 6  +6.803e+03  +6.674e+03  +4e+04  3e-02  2e-04  7e+00  3e+01  0.4774  2e-01   2  2  3 |  0  0\n",
      " 7  +1.159e+04  +1.153e+04  +2e+04  1e-02  9e-05  6e+00  1e+01  0.6398  2e-01   2  2  3 |  0  0\n",
      " 8  +1.655e+04  +1.652e+04  +1e+04  6e-03  5e-05  4e+00  6e+00  0.5750  1e-01   2  3  3 |  0  0\n",
      " 9  +1.834e+04  +1.832e+04  +6e+03  3e-03  3e-05  5e+00  4e+00  0.8644  5e-01   2  3  3 |  0  0\n",
      "10  +2.144e+04  +2.143e+04  +2e+03  1e-03  1e-05  2e+00  2e+00  0.6400  7e-02   2  2  2 |  0  0\n",
      "11  +2.284e+04  +2.284e+04  +8e+02  4e-04  4e-06  8e-01  5e-01  0.7454  1e-01   2  2  2 |  0  0\n",
      "12  +2.306e+04  +2.306e+04  +5e+02  3e-04  3e-06  5e-01  3e-01  0.3711  1e-01   2  2  2 |  0  0\n",
      "13  +2.320e+04  +2.320e+04  +4e+02  2e-04  2e-06  4e-01  2e-01  0.8697  6e-01   2  2  3 |  0  0\n",
      "14  +2.339e+04  +2.339e+04  +2e+02  8e-05  9e-07  2e-01  1e-01  0.5654  5e-02   2  2  2 |  0  0\n",
      "15  +2.349e+04  +2.349e+04  +6e+01  3e-05  4e-07  7e-02  4e-02  0.9808  4e-01   2  2  2 |  0  0\n",
      "16  +2.351e+04  +2.351e+04  +4e+01  2e-05  2e-07  4e-02  2e-02  0.6916  4e-01   2  2  2 |  0  0\n",
      "17  +2.352e+04  +2.352e+04  +3e+01  1e-05  1e-07  3e-02  2e-02  0.3633  3e-01   2  2  2 |  0  0\n",
      "18  +2.354e+04  +2.354e+04  +5e+00  2e-06  3e-08  6e-03  3e-03  0.9545  2e-01   2  2  2 |  0  0\n",
      "19  +2.355e+04  +2.355e+04  +1e+00  6e-07  8e-09  2e-03  9e-04  0.8255  1e-01   2  2  2 |  0  0\n",
      "20  +2.355e+04  +2.355e+04  +4e-01  2e-07  2e-09  4e-04  3e-04  0.9890  3e-01   2  2  2 |  0  0\n",
      "21  +2.355e+04  +2.355e+04  +1e-02  4e-09  5e-11  1e-05  6e-06  0.9777  2e-03   2  2  2 |  0  0\n",
      "22  +2.355e+04  +2.355e+04  +1e-04  6e-11  7e-13  1e-07  8e-08  0.9876  1e-04   2  1  1 |  0  0\n",
      "\n",
      "OPTIMAL (within feastol=5.6e-11, reltol=5.1e-09, abstol=1.2e-04).\n",
      "Runtime: 0.044349 seconds.\n",
      "\n",
      "-------------------------------------------------------------------------------\n",
      "                                    Summary                                    \n",
      "-------------------------------------------------------------------------------\n",
      "(CVXPY) Dec 20 04:29:56 PM: Problem status: optimal\n",
      "(CVXPY) Dec 20 04:29:56 PM: Optimal value: -1.449e+04\n",
      "(CVXPY) Dec 20 04:29:56 PM: Compilation took 3.941e-01 seconds\n",
      "(CVXPY) Dec 20 04:29:56 PM: Solver (including time spent in interface) took 4.455e-02 seconds\n"
     ]
    }
   ],
   "source": [
    "model.solve()"
   ]
  },
  {
   "cell_type": "code",
   "execution_count": 23,
   "metadata": {},
   "outputs": [
    {
     "data": {
      "text/plain": [
       "<matplotlib.legend.Legend at 0x7fdbc8051f10>"
      ]
     },
     "execution_count": 23,
     "metadata": {},
     "output_type": "execute_result"
    },
    {
     "data": {
      "image/png": "[encoded data removed]",
      "text/plain": [
       "<Figure size 640x480 with 1 Axes>"
      ]
     },
     "metadata": {},
     "output_type": "display_data"
    }
   ],
   "source": [
    "ax = model.profile.consumer_surplus.sum(axis='columns').plot()\n",
    "model.profile.producer_surplus.sum(axis='columns').plot(ax=ax)\n",
    "ax.legend(('consumer surplus','producer surplus'))"
   ]
  },
  {
   "cell_type": "code",
   "execution_count": null,
   "metadata": {},
   "outputs": [],
   "source": []
  }
 ],
 "metadata": {
  "kernelspec": {
   "display_name": "Python 3 (ipykernel)",
   "language": "python",
   "name": "python3"
  },
  "language_info": {
   "codemirror_mode": {
    "name": "ipython",
    "version": 3
   },
   "file_extension": ".py",
   "mimetype": "text/x-python",
   "name": "python",
   "nbconvert_exporter": "python",
   "pygments_lexer": "ipython3",
   "version": "3.11.5"
  }
 },
 "nbformat": 4,
 "nbformat_minor": 4
}
